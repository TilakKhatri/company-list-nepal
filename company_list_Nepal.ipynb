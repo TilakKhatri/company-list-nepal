{
 "cells": [
  {
   "cell_type": "code",
   "execution_count": 29,
   "id": "4165060c-9ae1-45da-8069-9cb558069f9b",
   "metadata": {},
   "outputs": [],
   "source": [
    "from bs4 import BeautifulSoup\n",
    "import requests\n",
    "import pandas as pd"
   ]
  },
  {
   "cell_type": "code",
   "execution_count": 30,
   "id": "bbb9c055-b9aa-42e1-b367-2454bf26fd43",
   "metadata": {},
   "outputs": [],
   "source": [
    "url = 'https://en.wikipedia.org/wiki/List_of_companies_of_Nepal'\n",
    "page = requests.get(url)\n",
    "# print(page.text)\n",
    "soup = BeautifulSoup(page.content,'html.parser')"
   ]
  },
  {
   "cell_type": "code",
   "execution_count": 31,
   "id": "9e2e8bc6-949c-4185-8922-aa9886786e03",
   "metadata": {},
   "outputs": [
    {
     "data": {
      "text/plain": [
       "['Name', 'Industry', 'Sector', 'Headquarters', 'Founded', 'Notes']"
      ]
     },
     "execution_count": 31,
     "metadata": {},
     "output_type": "execute_result"
    }
   ],
   "source": [
    "table = soup.find('table', class_ = 'wikitable')\n",
    "columns = table.find_all('th')\n",
    "\n",
    "headers = [column_name.text.strip() for column_name in columns]\n",
    "headers"
   ]
  },
  {
   "cell_type": "code",
   "execution_count": 51,
   "id": "04f05869-fd0c-4c51-92f9-16760deab8cc",
   "metadata": {},
   "outputs": [
    {
     "data": {
      "text/html": [
       "<div>\n",
       "<style scoped>\n",
       "    .dataframe tbody tr th:only-of-type {\n",
       "        vertical-align: middle;\n",
       "    }\n",
       "\n",
       "    .dataframe tbody tr th {\n",
       "        vertical-align: top;\n",
       "    }\n",
       "\n",
       "    .dataframe thead th {\n",
       "        text-align: right;\n",
       "    }\n",
       "</style>\n",
       "<table border=\"1\" class=\"dataframe\">\n",
       "  <thead>\n",
       "    <tr style=\"text-align: right;\">\n",
       "      <th></th>\n",
       "      <th>Name</th>\n",
       "      <th>Industry</th>\n",
       "      <th>Sector</th>\n",
       "      <th>Headquarters</th>\n",
       "      <th>Founded</th>\n",
       "      <th>Notes</th>\n",
       "    </tr>\n",
       "  </thead>\n",
       "  <tbody>\n",
       "  </tbody>\n",
       "</table>\n",
       "</div>"
      ],
      "text/plain": [
       "Empty DataFrame\n",
       "Columns: [Name, Industry, Sector, Headquarters, Founded, Notes]\n",
       "Index: []"
      ]
     },
     "execution_count": 51,
     "metadata": {},
     "output_type": "execute_result"
    }
   ],
   "source": [
    "df = pd.DataFrame(columns = headers)\n",
    "df"
   ]
  },
  {
   "cell_type": "code",
   "execution_count": 56,
   "id": "086b61e5-56b9-4dc7-b08f-fefead8a6bb8",
   "metadata": {},
   "outputs": [],
   "source": [
    "row_data = table.find_all('tr')[1:]\n",
    "\n",
    "for tr in row_data:\n",
    "    td = tr.find_all('td')\n",
    "    individual_row_data = [data.text.strip() for data in td]\n",
    "    df.loc[len(df)] = individual_row_data"
   ]
  },
  {
   "cell_type": "code",
   "execution_count": 80,
   "id": "54ba0954-0e20-448d-aedd-75568251389d",
   "metadata": {},
   "outputs": [
    {
     "name": "stderr",
     "output_type": "stream",
     "text": [
      "INFO:sqlalchemy.engine.Engine:select pg_catalog.version()\n",
      "INFO:sqlalchemy.engine.Engine:[raw sql] {}\n",
      "INFO:sqlalchemy.engine.Engine:select current_schema()\n",
      "INFO:sqlalchemy.engine.Engine:[raw sql] {}\n",
      "INFO:sqlalchemy.engine.Engine:show standard_conforming_strings\n",
      "INFO:sqlalchemy.engine.Engine:[raw sql] {}\n",
      "INFO:sqlalchemy.engine.Engine:BEGIN (implicit)\n",
      "INFO:sqlalchemy.engine.Engine:SELECT version();\n",
      "INFO:sqlalchemy.engine.Engine:[generated in 0.00093s] {}\n",
      "INFO:sqlalchemy.engine.Engine:ROLLBACK\n",
      "INFO:sqlalchemy.engine.Engine:BEGIN (implicit)\n",
      "INFO:sqlalchemy.engine.Engine:SELECT * FROM information_schema.tables WHERE table_name = 'nepal_company_list';\n",
      "INFO:sqlalchemy.engine.Engine:[generated in 0.00165s] {}\n",
      "INFO:sqlalchemy.engine.Engine:ROLLBACK\n",
      "INFO:sqlalchemy.engine.Engine:BEGIN (implicit)\n",
      "INFO:sqlalchemy.engine.Engine:SELECT pg_catalog.pg_class.relname \n",
      "FROM pg_catalog.pg_class JOIN pg_catalog.pg_namespace ON pg_catalog.pg_namespace.oid = pg_catalog.pg_class.relnamespace \n",
      "WHERE pg_catalog.pg_class.relname = %(table_name)s AND pg_catalog.pg_class.relkind = ANY (ARRAY[%(param_1)s, %(param_2)s, %(param_3)s, %(param_4)s, %(param_5)s]) AND pg_catalog.pg_table_is_visible(pg_catalog.pg_class.oid) AND pg_catalog.pg_namespace.nspname != %(nspname_1)s\n",
      "INFO:sqlalchemy.engine.Engine:[generated in 0.00055s] {'table_name': 'nepal_company_list', 'param_1': 'r', 'param_2': 'p', 'param_3': 'f', 'param_4': 'v', 'param_5': 'm', 'nspname_1': 'pg_catalog'}\n",
      "INFO:sqlalchemy.engine.Engine:\n",
      "CREATE TABLE nepal_company_list (\n",
      "\t\"Name\" TEXT, \n",
      "\t\"Industry\" TEXT, \n",
      "\t\"Sector\" TEXT, \n",
      "\t\"Headquarters\" TEXT, \n",
      "\t\"Founded\" TEXT, \n",
      "\t\"Notes\" TEXT\n",
      ")\n",
      "\n",
      "\n",
      "INFO:sqlalchemy.engine.Engine:[no key 0.00034s] {}\n",
      "INFO:sqlalchemy.engine.Engine:INSERT INTO nepal_company_list (\"Name\", \"Industry\", \"Sector\", \"Headquarters\", \"Founded\", \"Notes\") VALUES (%(Name__0)s, %(Industry__0)s, %(Sector__0)s, %(Headquarters__0)s, %(Founded__0)s, %(Notes__0)s), (%(Name__1)s, %(Industry__1)s, %(Sector__1)s, % ... 17573 characters truncated ... _167)s, %(Industry__167)s, %(Sector__167)s, %(Headquarters__167)s, %(Founded__167)s, %(Notes__167)s)\n",
      "INFO:sqlalchemy.engine.Engine:[generated in 0.00051s (insertmanyvalues) 1/1 (unordered)] {'Industry__0': 'Consumer services', 'Name__0': 'Agni Air', 'Sector__0': 'Airlines', 'Headquarters__0': 'Kathmandu', 'Founded__0': '2006', 'Notes__0': 'Airline, defunct 2006', 'Industry__1': 'Financials', 'Name__1': 'Agriculture Development Bank', 'Sector__1': 'Banks', 'Headquarters__1': 'Kathmandu', 'Founded__1': '1968', 'Notes__1': 'Bank, rural credit institution', 'Industry__2': 'Consumer services', 'Name__2': 'Air Nepal International', 'Sector__2': 'Airlines', 'Headquarters__2': 'Kathmandu', 'Founded__2': '2005', 'Notes__2': 'Airline, defunct 2006', 'Industry__3': 'Consumer services', 'Name__3': 'Asian Airlines', 'Sector__3': 'Airlines', 'Headquarters__3': 'Kathmandu', 'Founded__3': '2002[6]', 'Notes__3': 'Airline, defunct 2006', 'Industry__4': 'Consumer services', 'Name__4': 'Bajeko Sekuwa', 'Sector__4': 'Restaurants & bars', 'Headquarters__4': 'Kathmandu', 'Founded__4': '?', 'Notes__4': 'Restaurant chain', 'Industry__5': 'Consumer services', 'Name__5': 'Base Air', 'Sector__5': 'Airlines', 'Headquarters__5': '?', 'Founded__5': '2004', 'Notes__5': 'Airline, defunct 2007', 'Industry__6': 'Consumer services', 'Name__6': 'Bhatbhateni supermarket', 'Sector__6': 'Retail Chain', 'Headquarters__6': 'Kathmandu', 'Founded__6': '1984', 'Notes__6': None, 'Industry__7': 'Consumer services', 'Name__7': 'Buddha Air', 'Sector__7': 'Airlines', 'Headquarters__7': 'Jawalakhel', 'Founded__7': '1997', 'Notes__7': 'Domestic airline', 'Industry__8': 'Conglomerates', 'Name__8': 'Chaudhary Group' ... 908 parameters truncated ... 'Founded__159': '1999', 'Notes__159': 'Charter helicopter airline', 'Industry__160': 'Consumer services', 'Name__160': 'Sita Air', 'Sector__160': 'Airlines', 'Headquarters__160': 'Kathmandu', 'Founded__160': '2003', 'Notes__160': 'Airline', 'Industry__161': 'Consumer services', 'Name__161': 'Skyline Airways', 'Sector__161': 'Airlines', 'Headquarters__161': 'Kathmandu', 'Founded__161': '1999', 'Notes__161': 'Airline, defunct 2003', 'Industry__162': 'Telecommunications', 'Name__162': 'SmartCell', 'Sector__162': 'Mobile telecommunications', 'Headquarters__162': 'Lalitpur', 'Founded__162': '2008', 'Notes__162': 'GSM', 'Industry__163': 'Financials', 'Name__163': 'Standard Chartered Nepal', 'Sector__163': 'Banks', 'Headquarters__163': 'Kathmandu', 'Founded__163': '1987', 'Notes__163': 'Bank, significant subsidiary of Standard Chartered (UK)', 'Industry__164': 'Telecommunications', 'Name__164': 'Subisu', 'Sector__164': 'Fixed line telecommunications', 'Headquarters__164': 'Kathmandu', 'Founded__164': '1999', 'Notes__164': 'Cable Internet', 'Industry__165': 'Consumer services', 'Name__165': 'Tara Air', 'Sector__165': 'Airlines', 'Headquarters__165': 'Kathmandu', 'Founded__165': '2009', 'Notes__165': 'Airline', 'Industry__166': 'Telecommunications', 'Name__166': 'WorldLink', 'Sector__166': 'Fixed line telecommunications', 'Headquarters__166': 'Kathmandu', 'Founded__166': '1995', 'Notes__166': 'Internet and network service provider', 'Industry__167': 'Consumer services', 'Name__167': 'Yeti Airlines', 'Sector__167': 'Airlines', 'Headquarters__167': 'Kathmandu', 'Founded__167': '1998', 'Notes__167': 'Airline'}\n",
      "INFO:sqlalchemy.engine.Engine:COMMIT\n",
      "INFO:sqlalchemy.engine.Engine:BEGIN (implicit)\n",
      "INFO:sqlalchemy.engine.Engine:SELECT * FROM nepal_company_list LIMIT 5;\n",
      "INFO:sqlalchemy.engine.Engine:[generated in 0.00065s] {}\n",
      "INFO:sqlalchemy.engine.Engine:ROLLBACK\n"
     ]
    },
    {
     "name": "stdout",
     "output_type": "stream",
     "text": [
      "('PostgreSQL 14.11 (Homebrew) on aarch64-apple-darwin23.2.0, compiled by Apple clang version 15.0.0 (clang-1500.1.0.2.5), 64-bit',)\n",
      "Table does not exist.\n",
      "Data loaded successfully into table 'nepal_company_list'\n",
      "('Agni Air', 'Consumer services', 'Airlines', 'Kathmandu', '2006', 'Airline, defunct 2006')\n",
      "('Agriculture Development Bank', 'Financials', 'Banks', 'Kathmandu', '1968', 'Bank, rural credit institution')\n",
      "('Air Nepal International', 'Consumer services', 'Airlines', 'Kathmandu', '2005', 'Airline, defunct 2006')\n",
      "('Asian Airlines', 'Consumer services', 'Airlines', 'Kathmandu', '2002[6]', 'Airline, defunct 2006')\n",
      "('Bajeko Sekuwa', 'Consumer services', 'Restaurants & bars', 'Kathmandu', '?', 'Restaurant chain')\n"
     ]
    }
   ],
   "source": [
    "# df.to_csv('company_list_Nepal.csv' , index=False)\n",
    "from sqlalchemy import create_engine,text\n",
    "import pandas as pd\n",
    "import logging\n",
    "\n",
    "# Enable SQLAlchemy logging\n",
    "logging.basicConfig()\n",
    "logging.getLogger('sqlalchemy.engine').setLevel(logging.INFO)\n",
    "\n",
    "\n",
    "db_username = 'your_username'\n",
    "db_password = ''\n",
    "db_host = 'localhost'\n",
    "db_port = '5432'\n",
    "db_name = 'your_database_name'\n",
    "\n",
    "# Create the connection string\n",
    "connection_string = f'postgresql+psycopg2://{db_username}:{db_password}@{db_host}:{db_port}/{db_name}'\n",
    "# Create the database engine\n",
    "engine = create_engine(connection_string)\n",
    "\n",
    "# Read CSV file into a DataFrame\n",
    "df = pd.read_csv('company_list_Nepal.csv')\n",
    "# df.head()\n",
    "# Test the connection (optional)\n",
    "try:\n",
    "    with engine.connect() as conn:\n",
    "        result = conn.execute(text(\"SELECT version();\"))\n",
    "        for row in result:\n",
    "            print(row)\n",
    "except Exception as e:\n",
    "    print(\"Error message:\", e)\n",
    "\n",
    "table_name = 'nepal_company_list'\n",
    "# Check if the table exists in the database\n",
    "try:\n",
    "    with engine.connect() as conn:\n",
    "        result = conn.execute(text(f\"SELECT * FROM information_schema.tables WHERE table_name = '{table_name}';\"))\n",
    "        if result.rowcount == 0:\n",
    "            print(\"Table does not exist.\")\n",
    "        else:\n",
    "            print(\"Table exists.\")\n",
    "except Exception as e:\n",
    "    print(\"Error message:\", e)\n",
    "\n",
    "\n",
    "# Load the DataFrame into the PostgreSQL table\n",
    "try:\n",
    "    df.to_sql(table_name, engine, if_exists='replace', index=False)\n",
    "    print(f\"Data loaded successfully into table '{table_name}'\")\n",
    "except Exception as e:\n",
    "    print(\"Error while loading data into PostgreSQL:\", e)\n",
    "\n",
    "# Check the data in the table\n",
    "try:\n",
    "    with engine.connect() as conn:\n",
    "        result = conn.execute(text(f\"SELECT * FROM {table_name} LIMIT 5;\"))\n",
    "        rows = result.fetchall()\n",
    "        if len(rows) == 0:\n",
    "            print(\"Table is empty.\")\n",
    "        else:\n",
    "            for row in rows:\n",
    "                print(row)\n",
    "except Exception as e:\n",
    "    print(\"Error message:\", e)"
   ]
  },
  {
   "cell_type": "code",
   "execution_count": null,
   "id": "aeadc524-bd6d-4b4d-a217-a78412b72154",
   "metadata": {},
   "outputs": [],
   "source": []
  }
 ],
 "metadata": {
  "kernelspec": {
   "display_name": "Python 3 (ipykernel)",
   "language": "python",
   "name": "python3"
  },
  "language_info": {
   "codemirror_mode": {
    "name": "ipython",
    "version": 3
   },
   "file_extension": ".py",
   "mimetype": "text/x-python",
   "name": "python",
   "nbconvert_exporter": "python",
   "pygments_lexer": "ipython3",
   "version": "3.12.2"
  }
 },
 "nbformat": 4,
 "nbformat_minor": 5
}
